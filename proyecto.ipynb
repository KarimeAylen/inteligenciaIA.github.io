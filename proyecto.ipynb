{
 "cells": [
  {
   "cell_type": "code",
   "execution_count": 1,
   "metadata": {},
   "outputs": [
    {
     "name": "stdout",
     "output_type": "stream",
     "text": [
      "3.9.13 (tags/v3.9.13:6de2ca5, May 17 2022, 16:36:42) [MSC v.1929 64 bit (AMD64)]\n"
     ]
    }
   ],
   "source": [
    "import sys\n",
    "print(sys.version)"
   ]
  },
  {
   "cell_type": "code",
   "execution_count": 2,
   "metadata": {},
   "outputs": [
    {
     "name": "stdout",
     "output_type": "stream",
     "text": [
      "Requirement already satisfied: opencv-python in c:\\users\\karim\\desktop\\iapetevscode\\.venv\\lib\\site-packages (4.7.0.72)\n",
      "Requirement already satisfied: numpy>=1.17.0 in c:\\users\\karim\\desktop\\iapetevscode\\.venv\\lib\\site-packages (from opencv-python) (1.23.5)\n"
     ]
    }
   ],
   "source": [
    "!pip install opencv-python"
   ]
  },
  {
   "cell_type": "code",
   "execution_count": 3,
   "metadata": {},
   "outputs": [
    {
     "name": "stdout",
     "output_type": "stream",
     "text": [
      "Requirement already satisfied: mediapipe in c:\\users\\karim\\desktop\\iapetevscode\\.venv\\lib\\site-packages (0.10.0)\n",
      "Requirement already satisfied: absl-py in c:\\users\\karim\\desktop\\iapetevscode\\.venv\\lib\\site-packages (from mediapipe) (1.4.0)\n",
      "Requirement already satisfied: attrs>=19.1.0 in c:\\users\\karim\\desktop\\iapetevscode\\.venv\\lib\\site-packages (from mediapipe) (23.1.0)\n",
      "Requirement already satisfied: flatbuffers>=2.0 in c:\\users\\karim\\desktop\\iapetevscode\\.venv\\lib\\site-packages (from mediapipe) (23.5.9)\n",
      "Requirement already satisfied: matplotlib in c:\\users\\karim\\desktop\\iapetevscode\\.venv\\lib\\site-packages (from mediapipe) (3.7.1)\n",
      "Requirement already satisfied: numpy in c:\\users\\karim\\desktop\\iapetevscode\\.venv\\lib\\site-packages (from mediapipe) (1.23.5)\n",
      "Requirement already satisfied: opencv-contrib-python in c:\\users\\karim\\desktop\\iapetevscode\\.venv\\lib\\site-packages (from mediapipe) (4.7.0.72)\n",
      "Requirement already satisfied: protobuf<4,>=3.11 in c:\\users\\karim\\desktop\\iapetevscode\\.venv\\lib\\site-packages (from mediapipe) (3.20.3)\n",
      "Requirement already satisfied: sounddevice>=0.4.4 in c:\\users\\karim\\desktop\\iapetevscode\\.venv\\lib\\site-packages (from mediapipe) (0.4.6)\n",
      "Requirement already satisfied: CFFI>=1.0 in c:\\users\\karim\\desktop\\iapetevscode\\.venv\\lib\\site-packages (from sounddevice>=0.4.4->mediapipe) (1.15.1)\n",
      "Requirement already satisfied: contourpy>=1.0.1 in c:\\users\\karim\\desktop\\iapetevscode\\.venv\\lib\\site-packages (from matplotlib->mediapipe) (1.0.7)\n",
      "Requirement already satisfied: cycler>=0.10 in c:\\users\\karim\\desktop\\iapetevscode\\.venv\\lib\\site-packages (from matplotlib->mediapipe) (0.11.0)\n",
      "Requirement already satisfied: fonttools>=4.22.0 in c:\\users\\karim\\desktop\\iapetevscode\\.venv\\lib\\site-packages (from matplotlib->mediapipe) (4.39.4)\n",
      "Requirement already satisfied: kiwisolver>=1.0.1 in c:\\users\\karim\\desktop\\iapetevscode\\.venv\\lib\\site-packages (from matplotlib->mediapipe) (1.4.4)\n",
      "Requirement already satisfied: packaging>=20.0 in c:\\users\\karim\\desktop\\iapetevscode\\.venv\\lib\\site-packages (from matplotlib->mediapipe) (23.1)\n",
      "Requirement already satisfied: pillow>=6.2.0 in c:\\users\\karim\\desktop\\iapetevscode\\.venv\\lib\\site-packages (from matplotlib->mediapipe) (9.5.0)\n",
      "Requirement already satisfied: pyparsing>=2.3.1 in c:\\users\\karim\\desktop\\iapetevscode\\.venv\\lib\\site-packages (from matplotlib->mediapipe) (3.0.9)\n",
      "Requirement already satisfied: python-dateutil>=2.7 in c:\\users\\karim\\desktop\\iapetevscode\\.venv\\lib\\site-packages (from matplotlib->mediapipe) (2.8.2)\n",
      "Requirement already satisfied: importlib-resources>=3.2.0 in c:\\users\\karim\\desktop\\iapetevscode\\.venv\\lib\\site-packages (from matplotlib->mediapipe) (5.12.0)\n",
      "Requirement already satisfied: pycparser in c:\\users\\karim\\desktop\\iapetevscode\\.venv\\lib\\site-packages (from CFFI>=1.0->sounddevice>=0.4.4->mediapipe) (2.21)\n",
      "Requirement already satisfied: zipp>=3.1.0 in c:\\users\\karim\\desktop\\iapetevscode\\.venv\\lib\\site-packages (from importlib-resources>=3.2.0->matplotlib->mediapipe) (3.15.0)\n",
      "Requirement already satisfied: six>=1.5 in c:\\users\\karim\\desktop\\iapetevscode\\.venv\\lib\\site-packages (from python-dateutil>=2.7->matplotlib->mediapipe) (1.16.0)\n"
     ]
    }
   ],
   "source": [
    "!pip install mediapipe"
   ]
  },
  {
   "cell_type": "code",
   "execution_count": 5,
   "metadata": {},
   "outputs": [
    {
     "name": "stdout",
     "output_type": "stream",
     "text": [
      "Requirement already satisfied: tensorflow in c:\\users\\karim\\desktop\\iapetevscode\\.venv\\lib\\site-packages (2.12.0)\n",
      "Requirement already satisfied: tensorflow-intel==2.12.0 in c:\\users\\karim\\desktop\\iapetevscode\\.venv\\lib\\site-packages (from tensorflow) (2.12.0)\n",
      "Requirement already satisfied: absl-py>=1.0.0 in c:\\users\\karim\\desktop\\iapetevscode\\.venv\\lib\\site-packages (from tensorflow-intel==2.12.0->tensorflow) (1.4.0)\n",
      "Requirement already satisfied: astunparse>=1.6.0 in c:\\users\\karim\\desktop\\iapetevscode\\.venv\\lib\\site-packages (from tensorflow-intel==2.12.0->tensorflow) (1.6.3)\n",
      "Requirement already satisfied: flatbuffers>=2.0 in c:\\users\\karim\\desktop\\iapetevscode\\.venv\\lib\\site-packages (from tensorflow-intel==2.12.0->tensorflow) (23.5.9)\n",
      "Requirement already satisfied: gast<=0.4.0,>=0.2.1 in c:\\users\\karim\\desktop\\iapetevscode\\.venv\\lib\\site-packages (from tensorflow-intel==2.12.0->tensorflow) (0.4.0)\n",
      "Requirement already satisfied: google-pasta>=0.1.1 in c:\\users\\karim\\desktop\\iapetevscode\\.venv\\lib\\site-packages (from tensorflow-intel==2.12.0->tensorflow) (0.2.0)\n",
      "Requirement already satisfied: h5py>=2.9.0 in c:\\users\\karim\\desktop\\iapetevscode\\.venv\\lib\\site-packages (from tensorflow-intel==2.12.0->tensorflow) (3.8.0)\n",
      "Requirement already satisfied: jax>=0.3.15 in c:\\users\\karim\\desktop\\iapetevscode\\.venv\\lib\\site-packages (from tensorflow-intel==2.12.0->tensorflow) (0.4.10)\n",
      "Requirement already satisfied: libclang>=13.0.0 in c:\\users\\karim\\desktop\\iapetevscode\\.venv\\lib\\site-packages (from tensorflow-intel==2.12.0->tensorflow) (16.0.0)\n",
      "Requirement already satisfied: numpy<1.24,>=1.22 in c:\\users\\karim\\desktop\\iapetevscode\\.venv\\lib\\site-packages (from tensorflow-intel==2.12.0->tensorflow) (1.23.5)\n",
      "Requirement already satisfied: opt-einsum>=2.3.2 in c:\\users\\karim\\desktop\\iapetevscode\\.venv\\lib\\site-packages (from tensorflow-intel==2.12.0->tensorflow) (3.3.0)\n",
      "Requirement already satisfied: packaging in c:\\users\\karim\\desktop\\iapetevscode\\.venv\\lib\\site-packages (from tensorflow-intel==2.12.0->tensorflow) (23.1)\n",
      "Requirement already satisfied: protobuf!=4.21.0,!=4.21.1,!=4.21.2,!=4.21.3,!=4.21.4,!=4.21.5,<5.0.0dev,>=3.20.3 in c:\\users\\karim\\desktop\\iapetevscode\\.venv\\lib\\site-packages (from tensorflow-intel==2.12.0->tensorflow) (3.20.3)\n",
      "Requirement already satisfied: setuptools in c:\\users\\karim\\desktop\\iapetevscode\\.venv\\lib\\site-packages (from tensorflow-intel==2.12.0->tensorflow) (58.1.0)\n",
      "Requirement already satisfied: six>=1.12.0 in c:\\users\\karim\\desktop\\iapetevscode\\.venv\\lib\\site-packages (from tensorflow-intel==2.12.0->tensorflow) (1.16.0)\n",
      "Requirement already satisfied: termcolor>=1.1.0 in c:\\users\\karim\\desktop\\iapetevscode\\.venv\\lib\\site-packages (from tensorflow-intel==2.12.0->tensorflow) (2.3.0)\n",
      "Requirement already satisfied: typing-extensions>=3.6.6 in c:\\users\\karim\\desktop\\iapetevscode\\.venv\\lib\\site-packages (from tensorflow-intel==2.12.0->tensorflow) (4.6.0)\n",
      "Requirement already satisfied: wrapt<1.15,>=1.11.0 in c:\\users\\karim\\desktop\\iapetevscode\\.venv\\lib\\site-packages (from tensorflow-intel==2.12.0->tensorflow) (1.14.1)\n",
      "Requirement already satisfied: grpcio<2.0,>=1.24.3 in c:\\users\\karim\\desktop\\iapetevscode\\.venv\\lib\\site-packages (from tensorflow-intel==2.12.0->tensorflow) (1.55.0)\n",
      "Requirement already satisfied: tensorboard<2.13,>=2.12 in c:\\users\\karim\\desktop\\iapetevscode\\.venv\\lib\\site-packages (from tensorflow-intel==2.12.0->tensorflow) (2.12.3)\n",
      "Requirement already satisfied: tensorflow-estimator<2.13,>=2.12.0 in c:\\users\\karim\\desktop\\iapetevscode\\.venv\\lib\\site-packages (from tensorflow-intel==2.12.0->tensorflow) (2.12.0)\n",
      "Requirement already satisfied: keras<2.13,>=2.12.0 in c:\\users\\karim\\desktop\\iapetevscode\\.venv\\lib\\site-packages (from tensorflow-intel==2.12.0->tensorflow) (2.12.0)\n",
      "Requirement already satisfied: tensorflow-io-gcs-filesystem>=0.23.1 in c:\\users\\karim\\desktop\\iapetevscode\\.venv\\lib\\site-packages (from tensorflow-intel==2.12.0->tensorflow) (0.31.0)\n",
      "Requirement already satisfied: wheel<1.0,>=0.23.0 in c:\\users\\karim\\desktop\\iapetevscode\\.venv\\lib\\site-packages (from astunparse>=1.6.0->tensorflow-intel==2.12.0->tensorflow) (0.40.0)\n",
      "Requirement already satisfied: ml-dtypes>=0.1.0 in c:\\users\\karim\\desktop\\iapetevscode\\.venv\\lib\\site-packages (from jax>=0.3.15->tensorflow-intel==2.12.0->tensorflow) (0.1.0)\n",
      "Requirement already satisfied: scipy>=1.7 in c:\\users\\karim\\desktop\\iapetevscode\\.venv\\lib\\site-packages (from jax>=0.3.15->tensorflow-intel==2.12.0->tensorflow) (1.10.1)\n",
      "Requirement already satisfied: google-auth<3,>=1.6.3 in c:\\users\\karim\\desktop\\iapetevscode\\.venv\\lib\\site-packages (from tensorboard<2.13,>=2.12->tensorflow-intel==2.12.0->tensorflow) (2.18.1)\n",
      "Requirement already satisfied: google-auth-oauthlib<1.1,>=0.5 in c:\\users\\karim\\desktop\\iapetevscode\\.venv\\lib\\site-packages (from tensorboard<2.13,>=2.12->tensorflow-intel==2.12.0->tensorflow) (1.0.0)\n",
      "Requirement already satisfied: markdown>=2.6.8 in c:\\users\\karim\\desktop\\iapetevscode\\.venv\\lib\\site-packages (from tensorboard<2.13,>=2.12->tensorflow-intel==2.12.0->tensorflow) (3.4.3)\n",
      "Requirement already satisfied: requests<3,>=2.21.0 in c:\\users\\karim\\desktop\\iapetevscode\\.venv\\lib\\site-packages (from tensorboard<2.13,>=2.12->tensorflow-intel==2.12.0->tensorflow) (2.31.0)\n",
      "Requirement already satisfied: tensorboard-data-server<0.8.0,>=0.7.0 in c:\\users\\karim\\desktop\\iapetevscode\\.venv\\lib\\site-packages (from tensorboard<2.13,>=2.12->tensorflow-intel==2.12.0->tensorflow) (0.7.0)\n",
      "Requirement already satisfied: werkzeug>=1.0.1 in c:\\users\\karim\\desktop\\iapetevscode\\.venv\\lib\\site-packages (from tensorboard<2.13,>=2.12->tensorflow-intel==2.12.0->tensorflow) (2.3.4)\n",
      "Requirement already satisfied: cachetools<6.0,>=2.0.0 in c:\\users\\karim\\desktop\\iapetevscode\\.venv\\lib\\site-packages (from google-auth<3,>=1.6.3->tensorboard<2.13,>=2.12->tensorflow-intel==2.12.0->tensorflow) (5.3.0)\n",
      "Requirement already satisfied: pyasn1-modules>=0.2.1 in c:\\users\\karim\\desktop\\iapetevscode\\.venv\\lib\\site-packages (from google-auth<3,>=1.6.3->tensorboard<2.13,>=2.12->tensorflow-intel==2.12.0->tensorflow) (0.3.0)\n",
      "Requirement already satisfied: urllib3<2.0 in c:\\users\\karim\\desktop\\iapetevscode\\.venv\\lib\\site-packages (from google-auth<3,>=1.6.3->tensorboard<2.13,>=2.12->tensorflow-intel==2.12.0->tensorflow) (1.26.15)\n",
      "Requirement already satisfied: rsa<5,>=3.1.4 in c:\\users\\karim\\desktop\\iapetevscode\\.venv\\lib\\site-packages (from google-auth<3,>=1.6.3->tensorboard<2.13,>=2.12->tensorflow-intel==2.12.0->tensorflow) (4.9)\n",
      "Requirement already satisfied: requests-oauthlib>=0.7.0 in c:\\users\\karim\\desktop\\iapetevscode\\.venv\\lib\\site-packages (from google-auth-oauthlib<1.1,>=0.5->tensorboard<2.13,>=2.12->tensorflow-intel==2.12.0->tensorflow) (1.3.1)\n",
      "Requirement already satisfied: importlib-metadata>=4.4 in c:\\users\\karim\\desktop\\iapetevscode\\.venv\\lib\\site-packages (from markdown>=2.6.8->tensorboard<2.13,>=2.12->tensorflow-intel==2.12.0->tensorflow) (6.6.0)\n",
      "Requirement already satisfied: charset-normalizer<4,>=2 in c:\\users\\karim\\desktop\\iapetevscode\\.venv\\lib\\site-packages (from requests<3,>=2.21.0->tensorboard<2.13,>=2.12->tensorflow-intel==2.12.0->tensorflow) (3.1.0)\n",
      "Requirement already satisfied: idna<4,>=2.5 in c:\\users\\karim\\desktop\\iapetevscode\\.venv\\lib\\site-packages (from requests<3,>=2.21.0->tensorboard<2.13,>=2.12->tensorflow-intel==2.12.0->tensorflow) (3.4)\n",
      "Requirement already satisfied: certifi>=2017.4.17 in c:\\users\\karim\\desktop\\iapetevscode\\.venv\\lib\\site-packages (from requests<3,>=2.21.0->tensorboard<2.13,>=2.12->tensorflow-intel==2.12.0->tensorflow) (2023.5.7)\n",
      "Requirement already satisfied: MarkupSafe>=2.1.1 in c:\\users\\karim\\desktop\\iapetevscode\\.venv\\lib\\site-packages (from werkzeug>=1.0.1->tensorboard<2.13,>=2.12->tensorflow-intel==2.12.0->tensorflow) (2.1.2)\n",
      "Requirement already satisfied: zipp>=0.5 in c:\\users\\karim\\desktop\\iapetevscode\\.venv\\lib\\site-packages (from importlib-metadata>=4.4->markdown>=2.6.8->tensorboard<2.13,>=2.12->tensorflow-intel==2.12.0->tensorflow) (3.15.0)\n",
      "Requirement already satisfied: pyasn1<0.6.0,>=0.4.6 in c:\\users\\karim\\desktop\\iapetevscode\\.venv\\lib\\site-packages (from pyasn1-modules>=0.2.1->google-auth<3,>=1.6.3->tensorboard<2.13,>=2.12->tensorflow-intel==2.12.0->tensorflow) (0.5.0)\n",
      "Requirement already satisfied: oauthlib>=3.0.0 in c:\\users\\karim\\desktop\\iapetevscode\\.venv\\lib\\site-packages (from requests-oauthlib>=0.7.0->google-auth-oauthlib<1.1,>=0.5->tensorboard<2.13,>=2.12->tensorflow-intel==2.12.0->tensorflow) (3.2.2)\n"
     ]
    }
   ],
   "source": [
    "!pip install tensorflow"
   ]
  },
  {
   "cell_type": "code",
   "execution_count": 6,
   "metadata": {},
   "outputs": [
    {
     "name": "stdout",
     "output_type": "stream",
     "text": [
      "Requirement already satisfied: keras in c:\\users\\karim\\desktop\\iapetevscode\\.venv\\lib\\site-packages (2.12.0)\n"
     ]
    }
   ],
   "source": [
    "!pip install keras"
   ]
  },
  {
   "cell_type": "code",
   "execution_count": 6,
   "metadata": {},
   "outputs": [],
   "source": [
    "import tensorflow.keras.optimizers"
   ]
  },
  {
   "cell_type": "code",
   "execution_count": 7,
   "metadata": {},
   "outputs": [
    {
     "name": "stdout",
     "output_type": "stream",
     "text": [
      "2.12.0\n"
     ]
    }
   ],
   "source": [
    "import tensorflow as tf\n",
    "print(tf.__version__)\n"
   ]
  },
  {
   "cell_type": "code",
   "execution_count": 8,
   "metadata": {},
   "outputs": [],
   "source": [
    "from keras.preprocessing.image import ImageDataGenerator\n"
   ]
  },
  {
   "cell_type": "code",
   "execution_count": 9,
   "metadata": {},
   "outputs": [
    {
     "name": "stdout",
     "output_type": "stream",
     "text": [
      "Collecting keras_preprocessing\n",
      "  Downloading Keras_Preprocessing-1.1.2-py2.py3-none-any.whl (42 kB)\n",
      "                                              0.0/42.6 kB ? eta -:--:--\n",
      "     --------------------------------------   41.0/42.6 kB 1.9 MB/s eta 0:00:01\n",
      "     -------------------------------------- 42.6/42.6 kB 688.1 kB/s eta 0:00:00\n",
      "Requirement already satisfied: numpy>=1.9.1 in c:\\users\\karim\\desktop\\iapetevscode\\.venv\\lib\\site-packages (from keras_preprocessing) (1.23.5)\n",
      "Requirement already satisfied: six>=1.9.0 in c:\\users\\karim\\desktop\\iapetevscode\\.venv\\lib\\site-packages (from keras_preprocessing) (1.16.0)\n",
      "Installing collected packages: keras_preprocessing\n",
      "Successfully installed keras_preprocessing-1.1.2\n"
     ]
    }
   ],
   "source": [
    "!pip install keras_preprocessing\n"
   ]
  },
  {
   "cell_type": "code",
   "execution_count": 12,
   "metadata": {},
   "outputs": [
    {
     "ename": "ModuleNotFoundError",
     "evalue": "No module named 'tensorflow.python.keras.preprocessing'",
     "output_type": "error",
     "traceback": [
      "\u001b[1;31m---------------------------------------------------------------------------\u001b[0m",
      "\u001b[1;31mModuleNotFoundError\u001b[0m                       Traceback (most recent call last)",
      "Cell \u001b[1;32mIn[12], line 8\u001b[0m\n\u001b[0;32m      6\u001b[0m \u001b[39mimport\u001b[39;00m \u001b[39mtensorflow\u001b[39;00m\u001b[39m.\u001b[39;00m\u001b[39mkeras\u001b[39;00m\u001b[39m.\u001b[39;00m\u001b[39moptimizers\u001b[39;00m\n\u001b[0;32m      7\u001b[0m \u001b[39m#------------------------------ Crear modelo y entrenarlo ---------------------------------------\u001b[39;00m\n\u001b[1;32m----> 8\u001b[0m \u001b[39mfrom\u001b[39;00m \u001b[39mtensorflow\u001b[39;00m\u001b[39m.\u001b[39;00m\u001b[39mpython\u001b[39;00m\u001b[39m.\u001b[39;00m\u001b[39mkeras\u001b[39;00m\u001b[39m.\u001b[39;00m\u001b[39mpreprocessing\u001b[39;00m\u001b[39m.\u001b[39;00m\u001b[39mimage\u001b[39;00m \u001b[39mimport\u001b[39;00m ImageDataGenerator  \u001b[39m#Nos ayuda a preprocesar las imagenes que le entreguemos al modelo\u001b[39;00m\n\u001b[0;32m      9\u001b[0m \u001b[39mfrom\u001b[39;00m \u001b[39mtensorflow\u001b[39;00m\u001b[39m.\u001b[39;00m\u001b[39mpython\u001b[39;00m\u001b[39m.\u001b[39;00m\u001b[39mkeras\u001b[39;00m \u001b[39mimport\u001b[39;00m optimizers         \u001b[39m#Optimizador con el que vamos a entrenar el modelo\u001b[39;00m\n\u001b[0;32m     10\u001b[0m \u001b[39mfrom\u001b[39;00m \u001b[39mtensorflow\u001b[39;00m\u001b[39m.\u001b[39;00m\u001b[39mpython\u001b[39;00m\u001b[39m.\u001b[39;00m\u001b[39mkeras\u001b[39;00m\u001b[39m.\u001b[39;00m\u001b[39mmodels\u001b[39;00m \u001b[39mimport\u001b[39;00m Sequential  \u001b[39m#Nos permite hacer redes neuronales secuenciales\u001b[39;00m\n",
      "\u001b[1;31mModuleNotFoundError\u001b[0m: No module named 'tensorflow.python.keras.preprocessing'"
     ]
    }
   ],
   "source": [
    "#ENTRENAMIENTO\n",
    "#------------------------------- Importamos librerias ---------------------------------\n",
    "import cv2\n",
    "import os\n",
    "#---------------------------------Importamos las fotos tomadas-----------------------------\n",
    "import tensorflow.keras.optimizers\n",
    "#------------------------------ Crear modelo y entrenarlo ---------------------------------------\n",
    "from tensorflow.python.keras.preprocessing.image import ImageDataGenerator  #Nos ayuda a preprocesar las imagenes que le entreguemos al modelo\n",
    "from tensorflow.python.keras import optimizers         #Optimizador con el que vamos a entrenar el modelo\n",
    "from tensorflow.python.keras.models import Sequential  #Nos permite hacer redes neuronales secuenciales\n",
    "from tensorflow.python.keras.layers import Dropout, Flatten, Dense, Activation #\n",
    "from tensorflow.python.keras.layers import Convolution2D, MaxPooling2D  #Capas para hacer las convoluciones\n",
    "from tensorflow.python.keras import backend as K       #Si hay una sesion de keras, lo cerramos para tener todo limpio\n",
    "\n",
    "K.clear_session()  #Limpiamos todo\n",
    "\n",
    "datos_entrenamiento =__path__=r'C:\\Users\\karim\\Desktop\\IAPeteVScode\\Imagenes'\n",
    "datos_validacion =__path__=r'C:\\Users\\karim\\Desktop\\IAPeteVScode\\imagenes2'\n",
    "\n",
    "#Parametros\n",
    "iteraciones = 20  #Numero de iteraciones para ajustar nuestro modelo\n",
    "altura, longitud = 200, 200 #Tamaño de las imagenes de entrenamiento\n",
    "batch_size = 1  #Numero de imagenes que vamos a enviar\n",
    "pasos = 300/1  #Numero de veces que se va a procesar la informacion en cada iteracion\n",
    "pasos_validacion = 300/1 #Despues de cada iteracion, validamos lo anterior\n",
    "filtrosconv1 = 32\n",
    "filtrosconv2 = 64     #Numero de filtros que vamos a aplicar en cada convolucion\n",
    "tam_filtro1 = (3,3)\n",
    "tam_filtro2 = (2,2)   #Tamaños de los filtros 1 y 2\n",
    "tam_pool = (2,2)  #Tamaño del filtro en max pooling\n",
    "clases = 2  #Mano abierta y cerrada (5 dedos y 0 dedos)\n",
    "lr = 0.0005  #ajustes de la red neuronal para acercarse a una solucion optima\n",
    "\n",
    "#Pre-Procesamiento de las imagenes\n",
    "preprocesamiento_entre = ImageDataGenerator(\n",
    "    rescale= 1./255,   #Pasar los pixeles de 0 a 255 | 0 a 1\n",
    "    shear_range = 0.3, #Generar nuestras imagenes inclinadas para un  mejor entrenamiento\n",
    "    zoom_range = 0.3,  #Genera imagenes con zoom para un mejor entrenamiento\n",
    "    horizontal_flip=True #Invierte las imagenes para mejor entrenamiento\n",
    ")\n",
    "\n",
    "preprocesamiento_vali = ImageDataGenerator(\n",
    "    rescale = 1./255\n",
    ")\n",
    "\n",
    "imagen_entreno = preprocesamiento_entre.flow_from_directory(\n",
    "    datos_entrenamiento,       #Va a tomar las fotos que ya almacenamos\n",
    "    target_size = (altura, longitud),\n",
    "    batch_size = batch_size,\n",
    "    class_mode = 'categorical',  #Clasificacion categorica = por clases\n",
    ")\n",
    "\n",
    "imagen_validacion = preprocesamiento_vali.flow_from_directory(\n",
    "    datos_validacion,\n",
    "    target_size=(altura,longitud),\n",
    "    batch_size= batch_size,\n",
    "    class_mode='categorical'\n",
    ")\n",
    "\n",
    "#Creamos la red neuronal convolucional (CNN)\n",
    "cnn = Sequential()  #Red neuronal secuencial\n",
    "#Agregamos filtros con el fin de volver nuestra imagen muy profunda pero pequeña\n",
    "cnn.add(Convolution2D(filtrosconv1, tam_filtro1, padding = 'same', input_shape=(altura,longitud,3), activation = 'relu')) #Agregamos la primera capa\n",
    "         #Es una convolucion y realizamos config\n",
    "cnn.add(MaxPooling2D(pool_size=tam_pool)) #Despues de la primera capa vamos a tener una capa de max pooling y asignamos el tamaño\n",
    "\n",
    "cnn.add(Convolution2D(filtrosconv2, tam_filtro2, padding = 'same', activation='relu')) #Agregamos nueva capa\n",
    "\n",
    "cnn.add(MaxPooling2D(pool_size=tam_pool))\n",
    "\n",
    "#Ahora vamos a convertir esa imagen profunda a una plana, para tener 1 dimension con toda la info\n",
    "cnn.add(Flatten())  #Aplanamos la imagen\n",
    "cnn.add(Dense(256,activation='relu'))  #Asignamos 256 neuronas\n",
    "cnn.add(Dropout(0.5)) #Apagamos el 50% de las neuronas en la funcion anterior para no sobreajustar la red\n",
    "cnn.add(Dense(clases, activation='softmax'))  #Es nuestra ultima capa, es la que nos dice la probabilidad de que sea alguna de las clases\n",
    "\n",
    "#Agregamos parametros para optimizar el modelo\n",
    "#Durante el entrenamiento tenga una autoevalucion, que se optimice con Adam, y la metrica sera accuracy\n",
    "optimizar = tensorflow.keras.optimizers.Adam(learning_rate= lr)\n",
    "cnn.compile(loss = 'categorical_crossentropy', optimizer= optimizar, metrics=['accuracy'])\n",
    "\n",
    "#Entrenaremos nuestra red\n",
    "cnn.fit(imagen_entreno, steps_per_epoch=pasos, epochs= iteraciones, validation_data= imagen_validacion, validation_steps=pasos_validacion)\n",
    "\n",
    "#Guardamos el modelo\n",
    "cnn.save('Modelo.h5')\n",
    "cnn.save_weights('pesos.h5')\n"
   ]
  }
 ],
 "metadata": {
  "kernelspec": {
   "display_name": ".venv",
   "language": "python",
   "name": "python3"
  },
  "language_info": {
   "codemirror_mode": {
    "name": "ipython",
    "version": 3
   },
   "file_extension": ".py",
   "mimetype": "text/x-python",
   "name": "python",
   "nbconvert_exporter": "python",
   "pygments_lexer": "ipython3",
   "version": "3.9.13"
  },
  "orig_nbformat": 4
 },
 "nbformat": 4,
 "nbformat_minor": 2
}
